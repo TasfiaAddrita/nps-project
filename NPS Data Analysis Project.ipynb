{
 "cells": [
  {
   "cell_type": "markdown",
   "metadata": {},
   "source": [
    "# Imports"
   ]
  },
  {
   "cell_type": "code",
   "execution_count": null,
   "metadata": {},
   "outputs": [],
   "source": [
    "import pandas as pd\n",
    "import numpy as np\n",
    "import matplotlib.pyplot as plt\n",
    "import seaborn as sns"
   ]
  },
  {
   "cell_type": "markdown",
   "metadata": {},
   "source": [
    "# Dataset"
   ]
  },
  {
   "cell_type": "code",
   "execution_count": null,
   "metadata": {},
   "outputs": [],
   "source": [
    "df = pd.read_csv('./SA-Feedback-Surveys/2017/Student-Feedback-Surveys-Superview.csv')\n",
    "# df.head()"
   ]
  },
  {
   "cell_type": "markdown",
   "metadata": {},
   "source": [
    "# Info about dataset"
   ]
  },
  {
   "cell_type": "markdown",
   "metadata": {},
   "source": [
    "## Columns"
   ]
  },
  {
   "cell_type": "code",
   "execution_count": null,
   "metadata": {},
   "outputs": [],
   "source": [
    "df.columns"
   ]
  },
  {
   "cell_type": "markdown",
   "metadata": {},
   "source": [
    "## Number of rows"
   ]
  },
  {
   "cell_type": "code",
   "execution_count": null,
   "metadata": {},
   "outputs": [],
   "source": [
    "len(df)"
   ]
  },
  {
   "cell_type": "markdown",
   "metadata": {},
   "source": [
    "## Rows with NaN values"
   ]
  },
  {
   "cell_type": "code",
   "execution_count": null,
   "metadata": {
    "scrolled": true
   },
   "outputs": [],
   "source": [
    "df[df.isnull().any(axis=1)]"
   ]
  },
  {
   "cell_type": "markdown",
   "metadata": {},
   "source": [
    "# How satisfied are the students?"
   ]
  },
  {
   "cell_type": "markdown",
   "metadata": {},
   "source": [
    "## Drop rows where `Rating (Num)` is `#ERROR!`"
   ]
  },
  {
   "cell_type": "code",
   "execution_count": null,
   "metadata": {},
   "outputs": [],
   "source": [
    "# https://stackoverflow.com/questions/13851535/delete-rows-from-a-pandas-dataframe-based-on-a-conditional-expression-involving\n",
    "\n",
    "def is_error(data):\n",
    "    return True if data == '#ERROR!' else False\n",
    "\n",
    "df = df[df['Rating (Num)'].map(is_error) == False]"
   ]
  },
  {
   "cell_type": "markdown",
   "metadata": {},
   "source": [
    "## Convert `Rating (Num)` values from str to int"
   ]
  },
  {
   "cell_type": "code",
   "execution_count": null,
   "metadata": {},
   "outputs": [],
   "source": [
    "df['Rating (Num)'] = df['Rating (Num)'].apply(lambda x: int(x))"
   ]
  },
  {
   "cell_type": "markdown",
   "metadata": {},
   "source": [
    "## Get the Net Promoter Score (NPS)\n",
    "NPS is a tool commonly used to measure customer loyalty and promotion."
   ]
  },
  {
   "cell_type": "markdown",
   "metadata": {},
   "source": [
    "### Adding `Sentiment` column"
   ]
  },
  {
   "cell_type": "code",
   "execution_count": null,
   "metadata": {},
   "outputs": [],
   "source": [
    "def category(rating):\n",
    "    rating = int(rating)\n",
    "    if rating >= 9:\n",
    "        return 'Promoter'\n",
    "    elif rating >= 7:\n",
    "        return 'Passive'\n",
    "    else:\n",
    "        return 'Detractor'\n",
    "\n",
    "df['Sentiment'] = df['Rating (Num)'].apply(lambda rating: category(rating))\n",
    "df"
   ]
  },
  {
   "cell_type": "markdown",
   "metadata": {},
   "source": [
    "### Calculations"
   ]
  },
  {
   "cell_type": "code",
   "execution_count": null,
   "metadata": {},
   "outputs": [],
   "source": [
    "promoters = df[df['Sentiment'] == 'Promoter']\n",
    "detractors = df[df['Sentiment'] == 'Detractor']\n",
    "\n",
    "nps = (len(promoters) - len(detractors)) / len(df['Sentiment'])\n",
    "nps"
   ]
  },
  {
   "cell_type": "markdown",
   "metadata": {},
   "source": [
    "# Questions"
   ]
  },
  {
   "cell_type": "markdown",
   "metadata": {},
   "source": [
    "## How many more promoters are there than detractors across our 2017 data?\n",
    "There are 639 more promoters than detractors in 2017."
   ]
  },
  {
   "cell_type": "code",
   "execution_count": null,
   "metadata": {},
   "outputs": [],
   "source": [
    "len(promoters) - len(detractors)"
   ]
  },
  {
   "cell_type": "markdown",
   "metadata": {},
   "source": [
    "## Which track boasts the best promoter-to-detractor ratio?\n",
    "The `Games, Explorer` track has the best promoter-to-detractor ratio."
   ]
  },
  {
   "cell_type": "code",
   "execution_count": null,
   "metadata": {},
   "outputs": [],
   "source": [
    "track_sentiment = pd.crosstab(df['Track'], df['Sentiment'].drop(columns='Passive'))\n",
    "track_sentiment\n",
    "\n",
    "def promoter_to_detractor_ratio(row):\n",
    "    diff = row[\"Promoter\"] - row[\"Detractor\"]\n",
    "    total = row[\"Promoter\"] + row[\"Detractor\"]\n",
    "    return round(((diff) / (total)) * 100, 2)\n",
    "\n",
    "track_sentiment[\"Promoter Ratio %\"] = track_sentiment.apply(lambda row: promoter_to_detractor_ratio(row), axis=1)\n",
    "\n",
    "track_sentiment"
   ]
  },
  {
   "cell_type": "markdown",
   "metadata": {},
   "source": [
    "## Does the student experience get better the longer that they are enrolled at the Summer Academy?\n",
    "Overall, the students' experience does get better as they continue with the Summary Academy program. There's a slight dip in ratings during Week 4 but the ratings got back up after it."
   ]
  },
  {
   "cell_type": "code",
   "execution_count": 328,
   "metadata": {},
   "outputs": [
    {
     "data": {
      "text/html": [
       "<div>\n",
       "<style scoped>\n",
       "    .dataframe tbody tr th:only-of-type {\n",
       "        vertical-align: middle;\n",
       "    }\n",
       "\n",
       "    .dataframe tbody tr th {\n",
       "        vertical-align: top;\n",
       "    }\n",
       "\n",
       "    .dataframe thead th {\n",
       "        text-align: right;\n",
       "    }\n",
       "</style>\n",
       "<table border=\"1\" class=\"dataframe\">\n",
       "  <thead>\n",
       "    <tr style=\"text-align: right;\">\n",
       "      <th></th>\n",
       "      <th>Rating (Num)</th>\n",
       "    </tr>\n",
       "    <tr>\n",
       "      <th>Week</th>\n",
       "      <th></th>\n",
       "    </tr>\n",
       "  </thead>\n",
       "  <tbody>\n",
       "    <tr>\n",
       "      <td>Week 1</td>\n",
       "      <td>8.267361</td>\n",
       "    </tr>\n",
       "    <tr>\n",
       "      <td>Week 2</td>\n",
       "      <td>8.347826</td>\n",
       "    </tr>\n",
       "    <tr>\n",
       "      <td>Week 3</td>\n",
       "      <td>8.522822</td>\n",
       "    </tr>\n",
       "    <tr>\n",
       "      <td>Week 4</td>\n",
       "      <td>8.331606</td>\n",
       "    </tr>\n",
       "    <tr>\n",
       "      <td>Week 5</td>\n",
       "      <td>8.441341</td>\n",
       "    </tr>\n",
       "    <tr>\n",
       "      <td>Week 6</td>\n",
       "      <td>8.541667</td>\n",
       "    </tr>\n",
       "    <tr>\n",
       "      <td>Week 7</td>\n",
       "      <td>8.600000</td>\n",
       "    </tr>\n",
       "    <tr>\n",
       "      <td>Week 8</td>\n",
       "      <td>9.111111</td>\n",
       "    </tr>\n",
       "  </tbody>\n",
       "</table>\n",
       "</div>"
      ],
      "text/plain": [
       "        Rating (Num)\n",
       "Week                \n",
       "Week 1      8.267361\n",
       "Week 2      8.347826\n",
       "Week 3      8.522822\n",
       "Week 4      8.331606\n",
       "Week 5      8.441341\n",
       "Week 6      8.541667\n",
       "Week 7      8.600000\n",
       "Week 8      9.111111"
      ]
     },
     "execution_count": 328,
     "metadata": {},
     "output_type": "execute_result"
    },
    {
     "data": {
      "image/png": "[encoded data removed]",
      "text/plain": [
       "<Figure size 432x288 with 1 Axes>"
      ]
     },
     "metadata": {
      "needs_background": "light"
     },
     "output_type": "display_data"
    }
   ],
   "source": [
    "sns.lineplot(x=\"Week\", y=\"Rating (Num)\", data=df)\n",
    "pd.DataFrame(df.groupby(['Week'])['Rating (Num)'].mean())"
   ]
  },
  {
   "cell_type": "markdown",
   "metadata": {},
   "source": [
    "## Does student satisfaction vary by location?\n",
    "Make School Academy's __Atlanta__ location has the highest student satisfaction."
   ]
  },
  {
   "cell_type": "code",
   "execution_count": 290,
   "metadata": {},
   "outputs": [
    {
     "data": {
      "image/png": "[encoded data removed]",
      "text/plain": [
       "<Figure size 432x288 with 1 Axes>"
      ]
     },
     "metadata": {
      "needs_background": "light"
     },
     "output_type": "display_data"
    }
   ],
   "source": [
    "bar = sns.barplot(y=\"Location\", x=\"Rating (Num)\", data=df)"
   ]
  },
  {
   "cell_type": "markdown",
   "metadata": {},
   "source": [
    "## As the program progresses, how do students feel about the schedule pacing?\n",
    "On average, it appears that students feel the course is \"Just right\" while slightly feeling it may be \"A bit too fast\". It seems like Week 2 is where most students struggled to keep up with the program.\n",
    "\n",
    "We can infer that Week 2 was the most difficult because Week 1 probably covered basic material, such as orientation, setup, and introductory concepts. Week 2 may have started introducing intermediate/advance concepts that may have affected students' abilities to keep up with the material."
   ]
  },
  {
   "cell_type": "code",
   "execution_count": 325,
   "metadata": {
    "scrolled": false
   },
   "outputs": [],
   "source": [
    "# Rank each value to perform calculations\n",
    "\n",
    "pacing_int = {\n",
    "    \"Way too slow\": 1,\n",
    "    \"A little too slow\": 2,\n",
    "    \"Just right\": 3,\n",
    "    \"A little too fast\": 4,\n",
    "    \"Way too fast\": 5\n",
    "}\n",
    "df[\"Pacing_Int\"] = df[\"Schedule Pacing\"].apply(lambda row: pacing_int[row])"
   ]
  },
  {
   "cell_type": "code",
   "execution_count": 355,
   "metadata": {},
   "outputs": [
    {
     "data": {
      "text/plain": [
       "Week\n",
       "Week 1    3.114583\n",
       "Week 2    3.235507\n",
       "Week 3    3.153527\n",
       "Week 4    3.134715\n",
       "Week 5    3.139665\n",
       "Week 6    3.159722\n",
       "Week 7    3.141667\n",
       "Week 8    3.111111\n",
       "Name: Pacing_Int, dtype: float64"
      ]
     },
     "execution_count": 355,
     "metadata": {},
     "output_type": "execute_result"
    },
    {
     "data": {
      "image/png": "[encoded data removed]",
      "text/plain": [
       "<Figure size 432x288 with 1 Axes>"
      ]
     },
     "metadata": {
      "needs_background": "light"
     },
     "output_type": "display_data"
    }
   ],
   "source": [
    "sns.lineplot(x=\"Week\", y=\"Pacing_Int\", data=df)\n",
    "df.groupby('Week')['Pacing_Int'].mean()"
   ]
  },
  {
   "cell_type": "markdown",
   "metadata": {},
   "source": [
    "## How does `Schedule Pacing` affect student satisfaction?\n",
    "Students who felt the pacing was \"Way too slow\" or \"Way too fast\" were the least satisfied, as well as student who checked \"Just right\" also felt highly satisfied with the course. "
   ]
  },
  {
   "cell_type": "code",
   "execution_count": 329,
   "metadata": {
    "scrolled": true
   },
   "outputs": [
    {
     "data": {
      "text/plain": [
       "<matplotlib.axes._subplots.AxesSubplot at 0x11addb7d0>"
      ]
     },
     "execution_count": 329,
     "metadata": {},
     "output_type": "execute_result"
    },
    {
     "data": {
      "image/png": "[encoded data removed]",
      "text/plain": [
       "<Figure size 432x288 with 1 Axes>"
      ]
     },
     "metadata": {
      "needs_background": "light"
     },
     "output_type": "display_data"
    }
   ],
   "source": [
    "sns.barplot(x=\"Pacing_Int\", y=\"Rating (Num)\", data=df)"
   ]
  },
  {
   "cell_type": "markdown",
   "metadata": {},
   "source": [
    "## How was the `Schedule Pacing` for each `Track`?"
   ]
  },
  {
   "cell_type": "code",
   "execution_count": 357,
   "metadata": {},
   "outputs": [
    {
     "data": {
      "text/html": [
       "<div>\n",
       "<style scoped>\n",
       "    .dataframe tbody tr th:only-of-type {\n",
       "        vertical-align: middle;\n",
       "    }\n",
       "\n",
       "    .dataframe tbody tr th {\n",
       "        vertical-align: top;\n",
       "    }\n",
       "\n",
       "    .dataframe thead th {\n",
       "        text-align: right;\n",
       "    }\n",
       "</style>\n",
       "<table border=\"1\" class=\"dataframe\">\n",
       "  <thead>\n",
       "    <tr style=\"text-align: right;\">\n",
       "      <th>Schedule Pacing</th>\n",
       "      <th>A little too fast</th>\n",
       "      <th>A little too slow</th>\n",
       "      <th>Just right</th>\n",
       "      <th>Way too fast</th>\n",
       "      <th>Way too slow</th>\n",
       "    </tr>\n",
       "    <tr>\n",
       "      <th>Track</th>\n",
       "      <th></th>\n",
       "      <th></th>\n",
       "      <th></th>\n",
       "      <th></th>\n",
       "      <th></th>\n",
       "    </tr>\n",
       "  </thead>\n",
       "  <tbody>\n",
       "    <tr>\n",
       "      <td>Apps</td>\n",
       "      <td>197</td>\n",
       "      <td>58</td>\n",
       "      <td>603</td>\n",
       "      <td>13</td>\n",
       "      <td>0</td>\n",
       "    </tr>\n",
       "    <tr>\n",
       "      <td>Apps, Explorer</td>\n",
       "      <td>43</td>\n",
       "      <td>9</td>\n",
       "      <td>165</td>\n",
       "      <td>7</td>\n",
       "      <td>0</td>\n",
       "    </tr>\n",
       "    <tr>\n",
       "      <td>Games</td>\n",
       "      <td>21</td>\n",
       "      <td>25</td>\n",
       "      <td>158</td>\n",
       "      <td>1</td>\n",
       "      <td>3</td>\n",
       "    </tr>\n",
       "    <tr>\n",
       "      <td>Games, Explorer</td>\n",
       "      <td>5</td>\n",
       "      <td>0</td>\n",
       "      <td>38</td>\n",
       "      <td>0</td>\n",
       "      <td>0</td>\n",
       "    </tr>\n",
       "    <tr>\n",
       "      <td>VR</td>\n",
       "      <td>10</td>\n",
       "      <td>5</td>\n",
       "      <td>45</td>\n",
       "      <td>0</td>\n",
       "      <td>0</td>\n",
       "    </tr>\n",
       "  </tbody>\n",
       "</table>\n",
       "</div>"
      ],
      "text/plain": [
       "Schedule Pacing  A little too fast  A little too slow  Just right  \\\n",
       "Track                                                               \n",
       "Apps                           197                 58         603   \n",
       "Apps, Explorer                  43                  9         165   \n",
       "Games                           21                 25         158   \n",
       "Games, Explorer                  5                  0          38   \n",
       "VR                              10                  5          45   \n",
       "\n",
       "Schedule Pacing  Way too fast  Way too slow  \n",
       "Track                                        \n",
       "Apps                       13             0  \n",
       "Apps, Explorer              7             0  \n",
       "Games                       1             3  \n",
       "Games, Explorer             0             0  \n",
       "VR                          0             0  "
      ]
     },
     "execution_count": 357,
     "metadata": {},
     "output_type": "execute_result"
    }
   ],
   "source": [
    "pd.crosstab(df[\"Track\"], df[\"Schedule Pacing\"])"
   ]
  },
  {
   "cell_type": "markdown",
   "metadata": {},
   "source": [
    "## How many students in each `Track` started as a Promoter to Passive/Detractor and vice versa?"
   ]
  },
  {
   "cell_type": "code",
   "execution_count": null,
   "metadata": {},
   "outputs": [],
   "source": []
  }
 ],
 "metadata": {
  "hide_input": false,
  "kernelspec": {
   "display_name": "Python 3",
   "language": "python",
   "name": "python3"
  },
  "language_info": {
   "codemirror_mode": {
    "name": "ipython",
    "version": 3
   },
   "file_extension": ".py",
   "mimetype": "text/x-python",
   "name": "python",
   "nbconvert_exporter": "python",
   "pygments_lexer": "ipython3",
   "version": "3.7.6"
  },
  "toc": {
   "base_numbering": 1,
   "nav_menu": {},
   "number_sections": false,
   "sideBar": true,
   "skip_h1_title": false,
   "title_cell": "Table of Contents",
   "title_sidebar": "Contents",
   "toc_cell": false,
   "toc_position": {
    "height": "calc(100% - 180px)",
    "left": "10px",
    "top": "150px",
    "width": "331px"
   },
   "toc_section_display": true,
   "toc_window_display": true
  }
 },
 "nbformat": 4,
 "nbformat_minor": 2
}
